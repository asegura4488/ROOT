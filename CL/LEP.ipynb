{
 "cells": [
  {
   "cell_type": "code",
   "execution_count": 5,
   "metadata": {},
   "outputs": [],
   "source": [
    "#%matplotlib notebook\n",
    "import numpy             as np\n",
    "import matplotlib.pyplot as plt\n",
    "from matplotlib          import rc \n",
    "from matplotlib          import cm\n",
    "from mpl_toolkits.mplot3d import Axes3D\n",
    "import math"
   ]
  },
  {
   "cell_type": "code",
   "execution_count": 6,
   "metadata": {},
   "outputs": [],
   "source": [
    "n = 10.\n",
    "b = 8\n",
    "s = 15."
   ]
  },
  {
   "cell_type": "code",
   "execution_count": 7,
   "metadata": {},
   "outputs": [],
   "source": [
    "def GetLnQ(n_,b_,s_,mu_):\n",
    "    \n",
    "    Q = 2.*(mu_*s_ - n_*np.log(1.+(mu_*s_/b_)))\n",
    "    \n",
    "    return Q"
   ]
  },
  {
   "cell_type": "code",
   "execution_count": 8,
   "metadata": {},
   "outputs": [
    {
     "name": "stdout",
     "output_type": "stream",
     "text": [
      "2.8018176976293017\n"
     ]
    }
   ],
   "source": [
    "q = GetLnQ(n,b,s,0.59)\n",
    "print(q)"
   ]
  },
  {
   "cell_type": "code",
   "execution_count": 9,
   "metadata": {},
   "outputs": [],
   "source": [
    "def Sampler(n_,b_,s_,mu_,N=int(1e5)):\n",
    "    \n",
    "    H0 = np.random.poisson(b_, N)\n",
    "    H1 = np.random.poisson(b_+mu_*s_,N)\n",
    "    \n",
    "    Obs = GetLnQ(n_,b_,s_,mu_)\n",
    "    \n",
    "    q0 = GetLnQ(H0,b_,s_,mu_)\n",
    "    q1 = GetLnQ(H1,b_,s_,mu_)\n",
    "    \n",
    "    return Obs, q0, q1"
   ]
  },
  {
   "cell_type": "code",
   "execution_count": 24,
   "metadata": {},
   "outputs": [],
   "source": [
    "def GetHisto(l_,bins_, norm=True):\n",
    "    \n",
    "    H1, bines = np.histogram(l_,bins=bins_)\n",
    "    w = np.diff(bines)\n",
    "    \n",
    "    if norm:\n",
    "        H1 = H1 / (np.sum(H1*w))\n",
    "    \n",
    "    return H1,bines,w"
   ]
  },
  {
   "cell_type": "code",
   "execution_count": 45,
   "metadata": {},
   "outputs": [],
   "source": [
    "def GetMethod(n_,b_,s_,mu_,N=int(1e5)):\n",
    "    \n",
    "    Obs, q0, q1 = Sampler(n_,b_,s_,mu_)\n",
    "    \n",
    "    bins = np.linspace(-50,50,200)\n",
    "    \n",
    "    Hq0, bq0, wq0 = GetHisto(q0,bins,True)\n",
    "    Hq1, bq1, wq1 = GetHisto(q1,bins,True)\n",
    "    \n",
    "    \n",
    "    #plt.plot(bq0[0:-1],Hq0, color='k')\n",
    "    plt.bar(bq0[0:-1],Hq0,width=wq0, color='b',ec='k')\n",
    "    plt.bar(bq1[0:-1],Hq1,width=wq1, color='r',ec='k')\n",
    "    \n",
    "    #plt.yscale('log')"
   ]
  },
  {
   "cell_type": "code",
   "execution_count": 46,
   "metadata": {},
   "outputs": [
    {
     "data": {
      "image/png": "[encoded data removed]",
      "text/plain": [
       "<Figure size 432x288 with 1 Axes>"
      ]
     },
     "metadata": {
      "needs_background": "light"
     },
     "output_type": "display_data"
    }
   ],
   "source": [
    "GetMethod(n,b,s,0.59)"
   ]
  },
  {
   "cell_type": "code",
   "execution_count": null,
   "metadata": {},
   "outputs": [],
   "source": []
  },
  {
   "cell_type": "code",
   "execution_count": null,
   "metadata": {},
   "outputs": [],
   "source": []
  }
 ],
 "metadata": {
  "kernelspec": {
   "display_name": "Python 3",
   "language": "python",
   "name": "python3"
  },
  "language_info": {
   "codemirror_mode": {
    "name": "ipython",
    "version": 2
   },
   "file_extension": ".py",
   "mimetype": "text/x-python",
   "name": "python",
   "nbconvert_exporter": "python",
   "pygments_lexer": "ipython2",
   "version": "2.7.16"
  }
 },
 "nbformat": 4,
 "nbformat_minor": 2
}
