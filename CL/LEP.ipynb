{
 "cells": [
  {
   "cell_type": "code",
   "execution_count": 1,
   "metadata": {},
   "outputs": [],
   "source": [
    "#%matplotlib notebook\n",
    "import numpy             as np\n",
    "import matplotlib.pyplot as plt\n",
    "from matplotlib          import rc \n",
    "from matplotlib          import cm\n",
    "from mpl_toolkits.mplot3d import Axes3D\n",
    "import math\n",
    "from tqdm import tqdm\n",
    "from scipy.stats import norm"
   ]
  },
  {
   "cell_type": "code",
   "execution_count": 2,
   "metadata": {},
   "outputs": [],
   "source": [
    "n = 12.\n",
    "b = 8.\n",
    "s = 10."
   ]
  },
  {
   "cell_type": "code",
   "execution_count": 3,
   "metadata": {},
   "outputs": [],
   "source": [
    "def GetLnQ(n_,b_,s_,mu_):\n",
    "    \n",
    "    Q = 2.*(mu_*s_ - n_*np.log(1.+(mu_*s_/b_)))\n",
    "    \n",
    "    return Q"
   ]
  },
  {
   "cell_type": "code",
   "execution_count": 4,
   "metadata": {},
   "outputs": [
    {
     "name": "stdout",
     "output_type": "stream",
     "text": [
      "-1.4587351629634426\n"
     ]
    }
   ],
   "source": [
    "q = GetLnQ(n,b,s,0.59)\n",
    "print(q)"
   ]
  },
  {
   "cell_type": "code",
   "execution_count": 20,
   "metadata": {},
   "outputs": [],
   "source": [
    "def Sampler(n_,b_,s_,mu_,N=int(1e3)):\n",
    "    \n",
    "    H0 = np.random.poisson(b_, N)\n",
    "    H1 = np.random.poisson(b_+mu_*s_,N)\n",
    "    \n",
    "    Obs = GetLnQ(n_,b_,s_,mu_)\n",
    "    \n",
    "    q0 = GetLnQ(H0,b_,s_,mu_)\n",
    "    q1 = GetLnQ(H1,b_,s_,mu_)\n",
    "    \n",
    "    return Obs, q0, q1"
   ]
  },
  {
   "cell_type": "code",
   "execution_count": 21,
   "metadata": {},
   "outputs": [],
   "source": [
    "def GetHisto(l_,bins_, norm=True):\n",
    "    \n",
    "    H1, bines = np.histogram(l_,bins=bins_)\n",
    "    w = np.diff(bines)\n",
    "    \n",
    "    if norm:\n",
    "        H1 = H1 / (np.sum(H1*w))\n",
    "    \n",
    "    return H1,bines,w"
   ]
  },
  {
   "cell_type": "code",
   "execution_count": 22,
   "metadata": {},
   "outputs": [],
   "source": [
    "def GetPvalue(H,bins,w,Obs):\n",
    "    \n",
    "    p = 0.\n",
    "\n",
    "    for i in range(len(H)):\n",
    "    \n",
    "        if bins[i] >= Obs:\n",
    "             p += H[i]*w[i]\n",
    "    \n",
    "    return p"
   ]
  },
  {
   "cell_type": "code",
   "execution_count": 23,
   "metadata": {},
   "outputs": [],
   "source": [
    "def GetCL(n_,b_,s_,mu_,N=int(1e4),CL=1.0):\n",
    "      \n",
    "    Obs, q0, q1 = Sampler(n_,b_,s_,mu_)\n",
    "    \n",
    "    bins = np.linspace(-100,100,10000)\n",
    "    \n",
    "    Hq0, bq0, wq0 = GetHisto(q0,bins,True)\n",
    "    Hq1, bq1, wq1 = GetHisto(q1,bins,True)\n",
    "    HO, bO, wO = GetHisto(Obs,bins,True)\n",
    "    \n",
    "    HO = HO/ (np.sum(HO*wO)) * 0.2\n",
    "    \n",
    "    \n",
    "    p0 = GetPvalue(Hq0,bq0,wq0,Obs)\n",
    "    p1 = GetPvalue(Hq1,bq1,wq1,Obs)\n",
    "    \n",
    "    \n",
    "    if p0 != 0.:\n",
    "        CL = p1/p0\n",
    "    \n",
    "    #print(CL)\n",
    "    \n",
    "    #plt.plot(bq0[0:-1],Hq0, color='k')\n",
    "    #plt.bar(bq0[0:-1],Hq0,width=wq0, color='b',ec='k')\n",
    "    #plt.bar(bq1[0:-1],Hq1,width=wq1, color='r',ec='k')\n",
    "    #plt.bar(bO[0:-1],HO,width=wO, color='g',ec='g')\n",
    "    \n",
    "    #plt.close()\n",
    "    #plt.yscale('log')\n",
    "    \n",
    "    \n",
    "    return CL"
   ]
  },
  {
   "cell_type": "code",
   "execution_count": 24,
   "metadata": {},
   "outputs": [],
   "source": [
    "def GetMethod(n_,b_,s_):\n",
    "    \n",
    "    POI = np.linspace(0.,4.0,41)\n",
    "    CL = np.zeros(len(POI))\n",
    "    p = np.zeros(len(POI))\n",
    "    \n",
    "    #for i in tqdm(range(len(POI))):\n",
    "    for i in range(len(POI)):\n",
    "        CL[i] = GetCL(n_,b_,s_,POI[i])\n",
    "        p[i] = 0.05\n",
    "    \n",
    "    ii = CL <= 0.05 \n",
    "    #print(CL[ii][0], POI[ii][0])\n",
    "    \n",
    "    mup = POI[ii][0]\n",
    "   \n",
    "    return mup"
   ]
  },
  {
   "cell_type": "code",
   "execution_count": 38,
   "metadata": {},
   "outputs": [
    {
     "data": {
      "text/plain": [
       "0.7000000000000001"
      ]
     },
     "execution_count": 38,
     "metadata": {},
     "output_type": "execute_result"
    }
   ],
   "source": [
    "GetMethod(b,b,s)"
   ]
  },
  {
   "cell_type": "code",
   "execution_count": 26,
   "metadata": {},
   "outputs": [
    {
     "name": "stdout",
     "output_type": "stream",
     "text": [
      "1.0057537399309537\n",
      "nan\n"
     ]
    }
   ],
   "source": [
    "CL = GetCL(n,b,s,0.02)\n",
    "print(CL)\n",
    "\n",
    "S = norm.ppf(1.-CL)\n",
    "print(S)"
   ]
  },
  {
   "cell_type": "markdown",
   "metadata": {},
   "source": [
    "# Muestrear mup dada la hipotesis nula\n",
    "\n",
    "$$ f(\\mu^{up}/0) $$"
   ]
  },
  {
   "cell_type": "code",
   "execution_count": 35,
   "metadata": {},
   "outputs": [
    {
     "name": "stderr",
     "output_type": "stream",
     "text": [
      "100%|██████████| 50/50 [00:15<00:00,  3.31it/s]\n"
     ]
    }
   ],
   "source": [
    "mup = []\n",
    "\n",
    "for i in tqdm(range(50)):\n",
    "    \n",
    "    ntest = np.random.poisson(b)\n",
    "    #ntest = np.random.poisson(n)\n",
    "    \n",
    "    mup.append(GetMethod(ntest,b,s))\n"
   ]
  },
  {
   "cell_type": "code",
   "execution_count": 39,
   "metadata": {},
   "outputs": [
    {
     "data": {
      "text/plain": [
       "(array([0.33333333, 1.        , 2.16666667, 1.33333333, 0.66666667,\n",
       "        1.5       , 0.66666667, 0.16666667, 0.16666667, 0.33333333]),\n",
       " array([0.3 , 0.42, 0.54, 0.66, 0.78, 0.9 , 1.02, 1.14, 1.26, 1.38, 1.5 ]),\n",
       " <a list of 10 Patch objects>)"
      ]
     },
     "execution_count": 39,
     "metadata": {},
     "output_type": "execute_result"
    },
    {
     "data": {
      "image/png": "[encoded data removed]",
      "text/plain": [
       "<Figure size 432x288 with 1 Axes>"
      ]
     },
     "metadata": {
      "needs_background": "light"
     },
     "output_type": "display_data"
    }
   ],
   "source": [
    "plt.hist(mup, density=True)"
   ]
  },
  {
   "cell_type": "code",
   "execution_count": 40,
   "metadata": {},
   "outputs": [
    {
     "name": "stdout",
     "output_type": "stream",
     "text": [
      "(0.7000000000000001, 0.11599999999999999, 0.5059999999999995)\n"
     ]
    }
   ],
   "source": [
    "print(np.percentile(mup,50), np.percentile(mup,50)- np.percentile(mup,16),np.percentile(mup,94)-np.percentile(mup,50))"
   ]
  },
  {
   "cell_type": "code",
   "execution_count": 31,
   "metadata": {},
   "outputs": [],
   "source": [
    "#plt.plot(POI,CL)\n",
    "#plt.plot(POI,p,'r--',linewidth=2)\n",
    "#plt.grid()\n",
    "#plt.ylim(0.01,0.25)\n",
    "#plt.yscale('log')\n",
    "#plt.show()"
   ]
  },
  {
   "cell_type": "code",
   "execution_count": null,
   "metadata": {},
   "outputs": [],
   "source": []
  },
  {
   "cell_type": "code",
   "execution_count": 32,
   "metadata": {},
   "outputs": [],
   "source": [
    "# P-value para calcular la significancia de la señal\n",
    "\n",
    "\n"
   ]
  },
  {
   "cell_type": "code",
   "execution_count": null,
   "metadata": {},
   "outputs": [],
   "source": []
  },
  {
   "cell_type": "code",
   "execution_count": 33,
   "metadata": {},
   "outputs": [
    {
     "name": "stdout",
     "output_type": "stream",
     "text": [
      "(0.9986501019683699, 0.0013498980316301035)\n"
     ]
    }
   ],
   "source": [
    "#Para encontrar la probabilida en desviaciones estandar\n",
    "\n",
    "sigma = norm.cdf(3)\n",
    "alpha = 1.-sigma\n",
    "print(sigma,alpha)"
   ]
  },
  {
   "cell_type": "code",
   "execution_count": null,
   "metadata": {},
   "outputs": [],
   "source": []
  },
  {
   "cell_type": "code",
   "execution_count": null,
   "metadata": {},
   "outputs": [],
   "source": []
  }
 ],
 "metadata": {
  "kernelspec": {
   "display_name": "Python 3",
   "language": "python",
   "name": "python3"
  },
  "language_info": {
   "codemirror_mode": {
    "name": "ipython",
    "version": 2
   },
   "file_extension": ".py",
   "mimetype": "text/x-python",
   "name": "python",
   "nbconvert_exporter": "python",
   "pygments_lexer": "ipython2",
   "version": "2.7.16"
  }
 },
 "nbformat": 4,
 "nbformat_minor": 2
}
