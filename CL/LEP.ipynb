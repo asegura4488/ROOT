{
 "cells": [
  {
   "cell_type": "code",
   "execution_count": 1,
   "metadata": {},
   "outputs": [],
   "source": [
    "#%matplotlib notebook\n",
    "import numpy             as np\n",
    "import matplotlib.pyplot as plt\n",
    "from matplotlib          import rc \n",
    "from matplotlib          import cm\n",
    "from mpl_toolkits.mplot3d import Axes3D\n",
    "import math"
   ]
  },
  {
   "cell_type": "code",
   "execution_count": 97,
   "metadata": {},
   "outputs": [],
   "source": [
    "n = 10.\n",
    "b = 8\n",
    "s = 15."
   ]
  },
  {
   "cell_type": "code",
   "execution_count": 98,
   "metadata": {},
   "outputs": [],
   "source": [
    "def GetLnQ(n_,b_,s_,mu_):\n",
    "    \n",
    "    Q = 2.*(mu_*s_ - n_*np.log(1.+(mu_*s_/b_)))\n",
    "    \n",
    "    return Q"
   ]
  },
  {
   "cell_type": "code",
   "execution_count": 106,
   "metadata": {},
   "outputs": [
    {
     "name": "stdout",
     "output_type": "stream",
     "text": [
      "2.8018176976293017\n"
     ]
    }
   ],
   "source": [
    "q = GetLnQ(n,b,s,0.59)\n",
    "print(q)"
   ]
  },
  {
   "cell_type": "code",
   "execution_count": 118,
   "metadata": {},
   "outputs": [],
   "source": [
    "def GetMethod(n_,b_,s_,mu_,N=int(1e5)):\n",
    "    \n",
    "    H0 = np.random.poisson(b_, N)\n",
    "    H1 = np.random.poisson(b_+mu_*s_,N)\n",
    "    \n",
    "    #for i in range(len(H0)):\n",
    "    #    H0[i] += np.random.normal(0.,0.5)\n",
    "    #    H1[i] += np.random.normal(0.,0.5)\n",
    "    \n",
    "    \n",
    "    Obs = GetLnQ(n_,b_,s_,mu_)\n",
    "    \n",
    "    #plt.hist(H0, bins=100, color='r')\n",
    "    #plt.hist(H1, bins=100, color='b')\n",
    "    \n",
    "    q0 = GetLnQ(H0,b_,s_,mu_)\n",
    "    q1 = GetLnQ(H1,b_,s_,mu_)\n",
    "    \n",
    "    \n",
    "    \n",
    "    plt.hist(q0, bins=50, color='k',alpha=0.9,density=True)\n",
    "    \n",
    "    plt.hist(q1, bins=50, color='b',alpha=0.9,density=True)\n",
    "   # plt.hist(Obs, bins=5, color='r',alpha=1.0)\n",
    "    \n",
    "    \n",
    "    "
   ]
  },
  {
   "cell_type": "code",
   "execution_count": 119,
   "metadata": {},
   "outputs": [
    {
     "data": {
      "image/png": "[encoded data removed]",
      "text/plain": [
       "<Figure size 432x288 with 1 Axes>"
      ]
     },
     "metadata": {
      "needs_background": "light"
     },
     "output_type": "display_data"
    }
   ],
   "source": [
    "GetMethod(n,b,s,0.59)"
   ]
  },
  {
   "cell_type": "code",
   "execution_count": null,
   "metadata": {},
   "outputs": [],
   "source": []
  },
  {
   "cell_type": "code",
   "execution_count": null,
   "metadata": {},
   "outputs": [],
   "source": []
  }
 ],
 "metadata": {
  "kernelspec": {
   "display_name": "Python 3",
   "language": "python",
   "name": "python3"
  },
  "language_info": {
   "codemirror_mode": {
    "name": "ipython",
    "version": 2
   },
   "file_extension": ".py",
   "mimetype": "text/x-python",
   "name": "python",
   "nbconvert_exporter": "python",
   "pygments_lexer": "ipython2",
   "version": "2.7.16"
  }
 },
 "nbformat": 4,
 "nbformat_minor": 2
}
