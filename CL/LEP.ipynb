{
 "cells": [
  {
   "cell_type": "code",
   "execution_count": 1,
   "metadata": {},
   "outputs": [],
   "source": [
    "#%matplotlib notebook\n",
    "import numpy             as np\n",
    "import matplotlib.pyplot as plt\n",
    "from matplotlib          import rc \n",
    "from matplotlib          import cm\n",
    "from mpl_toolkits.mplot3d import Axes3D\n",
    "import math\n",
    "from tqdm import tqdm"
   ]
  },
  {
   "cell_type": "code",
   "execution_count": 2,
   "metadata": {},
   "outputs": [],
   "source": [
    "n = 10.\n",
    "b = 8.\n",
    "s = 10."
   ]
  },
  {
   "cell_type": "code",
   "execution_count": 3,
   "metadata": {},
   "outputs": [],
   "source": [
    "def GetLnQ(n_,b_,s_,mu_):\n",
    "    \n",
    "    Q = 2.*(mu_*s_ - n_*np.log(1.+(mu_*s_/b_)))\n",
    "    \n",
    "    return Q"
   ]
  },
  {
   "cell_type": "code",
   "execution_count": 4,
   "metadata": {},
   "outputs": [
    {
     "name": "stdout",
     "output_type": "stream",
     "text": [
      "0.7510540308637967\n"
     ]
    }
   ],
   "source": [
    "q = GetLnQ(n,b,s,0.59)\n",
    "print(q)"
   ]
  },
  {
   "cell_type": "code",
   "execution_count": 5,
   "metadata": {},
   "outputs": [],
   "source": [
    "def Sampler(n_,b_,s_,mu_,N=int(1e5)):\n",
    "    \n",
    "    H0 = np.random.poisson(b_, N)\n",
    "    H1 = np.random.poisson(b_+mu_*s_,N)\n",
    "    \n",
    "    Obs = GetLnQ(n_,b_,s_,mu_)\n",
    "    \n",
    "    q0 = GetLnQ(H0,b_,s_,mu_)\n",
    "    q1 = GetLnQ(H1,b_,s_,mu_)\n",
    "    \n",
    "    return Obs, q0, q1"
   ]
  },
  {
   "cell_type": "code",
   "execution_count": 6,
   "metadata": {},
   "outputs": [],
   "source": [
    "def GetHisto(l_,bins_, norm=True):\n",
    "    \n",
    "    H1, bines = np.histogram(l_,bins=bins_)\n",
    "    w = np.diff(bines)\n",
    "    \n",
    "    if norm:\n",
    "        H1 = H1 / (np.sum(H1*w))\n",
    "    \n",
    "    return H1,bines,w"
   ]
  },
  {
   "cell_type": "code",
   "execution_count": 7,
   "metadata": {},
   "outputs": [],
   "source": [
    "def GetPvalue(H,bins,w,Obs):\n",
    "    \n",
    "    p = 0.\n",
    "\n",
    "    for i in range(len(H)):\n",
    "    \n",
    "        if bins[i] >= Obs:\n",
    "             p += H[i]*w[i]\n",
    "    \n",
    "    return p"
   ]
  },
  {
   "cell_type": "code",
   "execution_count": 8,
   "metadata": {},
   "outputs": [],
   "source": [
    "def GetMethod(n_,b_,s_,mu_,N=int(1e6),CL=1.0):\n",
    "      \n",
    "    Obs, q0, q1 = Sampler(n_,b_,s_,mu_)\n",
    "    \n",
    "    bins = np.linspace(-40,40,1000)\n",
    "    \n",
    "    Hq0, bq0, wq0 = GetHisto(q0,bins,True)\n",
    "    Hq1, bq1, wq1 = GetHisto(q1,bins,True)\n",
    "    HO, bO, wO = GetHisto(Obs,bins,True)\n",
    "    \n",
    "    HO = HO/ (np.sum(HO*wO)) * 0.2\n",
    "    \n",
    "    \n",
    "    p0 = GetPvalue(Hq0,bq0,wq0,Obs)\n",
    "    p1 = GetPvalue(Hq1,bq1,wq1,Obs)\n",
    "    \n",
    "    if p0 != 0.:\n",
    "        CL = p1/p0\n",
    "    \n",
    "    #print(CL)\n",
    "    \n",
    "    #plt.plot(bq0[0:-1],Hq0, color='k')\n",
    "    #plt.bar(bq0[0:-1],Hq0,width=wq0, color='b',ec='k')\n",
    "    #plt.bar(bq1[0:-1],Hq1,width=wq1, color='r',ec='k')\n",
    "    #plt.bar(bO[0:-1],HO,width=wO, color='g',ec='g')\n",
    "    \n",
    "    #plt.close()\n",
    "    #plt.yscale('log')\n",
    "    \n",
    "    return CL"
   ]
  },
  {
   "cell_type": "code",
   "execution_count": 9,
   "metadata": {},
   "outputs": [
    {
     "name": "stdout",
     "output_type": "stream",
     "text": [
      "0.16776071773482398\n"
     ]
    }
   ],
   "source": [
    "CL = GetMethod(n,b,s,0.58,1.0)\n",
    "print(CL)"
   ]
  },
  {
   "cell_type": "code",
   "execution_count": null,
   "metadata": {},
   "outputs": [],
   "source": []
  },
  {
   "cell_type": "code",
   "execution_count": 10,
   "metadata": {},
   "outputs": [
    {
     "name": "stderr",
     "output_type": "stream",
     "text": [
      "100%|██████████| 50/50 [00:02<00:00, 22.57it/s]\n"
     ]
    }
   ],
   "source": [
    "POI = np.linspace(0.,1.5,50)\n",
    "\n",
    "CL = np.zeros(len(POI))\n",
    "\n",
    "p = np.zeros(len(POI))\n",
    "\n",
    "for i in tqdm(range(len(POI))):\n",
    "    CL[i] = GetMethod(n,b,s,POI[i])\n",
    "    p[i] = 0.05\n",
    "    "
   ]
  },
  {
   "cell_type": "code",
   "execution_count": 11,
   "metadata": {},
   "outputs": [
    {
     "data": {
      "image/png": "[encoded data removed]",
      "text/plain": [
       "<Figure size 432x288 with 1 Axes>"
      ]
     },
     "metadata": {
      "needs_background": "light"
     },
     "output_type": "display_data"
    }
   ],
   "source": [
    "plt.plot(POI,CL)\n",
    "plt.plot(POI,p,'r--',linewidth=2)\n",
    "plt.grid()\n",
    "plt.ylim(0.01,1)\n",
    "#plt.yscale('log')\n",
    "plt.show()"
   ]
  },
  {
   "cell_type": "code",
   "execution_count": 12,
   "metadata": {},
   "outputs": [
    {
     "name": "stdout",
     "output_type": "stream",
     "text": [
      "(0.0463165266106442, 0.8571428571428571)\n"
     ]
    }
   ],
   "source": [
    "ii = CL <= 0.05 \n",
    "print(CL[ii][0], POI[ii][0])"
   ]
  },
  {
   "cell_type": "code",
   "execution_count": null,
   "metadata": {},
   "outputs": [],
   "source": []
  }
 ],
 "metadata": {
  "kernelspec": {
   "display_name": "Python 3",
   "language": "python",
   "name": "python3"
  },
  "language_info": {
   "codemirror_mode": {
    "name": "ipython",
    "version": 2
   },
   "file_extension": ".py",
   "mimetype": "text/x-python",
   "name": "python",
   "nbconvert_exporter": "python",
   "pygments_lexer": "ipython2",
   "version": "2.7.16"
  }
 },
 "nbformat": 4,
 "nbformat_minor": 2
}
